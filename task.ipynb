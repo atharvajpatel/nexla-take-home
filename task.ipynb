{
 "cells": [
  {
   "cell_type": "code",
   "execution_count": 21,
   "metadata": {},
   "outputs": [],
   "source": [
    "from dotenv import load_dotenv\n",
    "import os\n",
    "from groq import Groq\n",
    "from matplotlib import pyplot as plt\n",
    "import seaborn as sns\n",
    "import pandas as pd\n",
    "import numpy as np\n",
    "\n"
   ]
  },
  {
   "cell_type": "code",
   "execution_count": 23,
   "metadata": {},
   "outputs": [
    {
     "name": "stdout",
     "output_type": "stream",
     "text": [
      "Groq API Key: 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\n"
     ]
    }
   ],
   "source": [
    "# Load the variables from the .env file into the environment\n",
    "load_dotenv()\n",
    "\n",
    "# Retrieve the API keys using os.getenv\n",
    "groq_api_key = os.getenv(\"GROQ_API_KEY\")\n",
    "\n",
    "# Optionally, check that the keys are loaded properly\n",
    "if not groq_api_key:\n",
    "    raise ValueError(\"GROQ_API_KEY not found. Please add it to your .env file.\")\n",
    "\n",
    "# Print (or use) the API keys as needed\n",
    "print(\"Groq API Key:\", groq_api_key)\n"
   ]
  },
  {
   "cell_type": "code",
   "execution_count": 24,
   "metadata": {},
   "outputs": [
    {
     "name": "stdout",
     "output_type": "stream",
     "text": [
      "The question of the meaning of life is a complex and subjective one that has been debated by philosophers, theologians, scientists, and many others for centuries. There is no one definitive answer, as the meaning of life can vary greatly from person to person, culture to culture, and era to era.\n",
      "\n",
      "Some possible perspectives on the meaning of life include:\n",
      "\n",
      "1. **Hedonism**: The pursuit of pleasure and happiness is the primary goal of life.\n",
      "2. **Eudaimonia**: The cultivation of a fulfilling and meaningful life, often associated with the concept of \"flourishing\" or living a life of purpose and virtue.\n",
      "3. **Existentialism**: Life has no inherent meaning, and individuals must create their own purpose and meaning\n"
     ]
    }
   ],
   "source": [
    "#Test groq completion\n",
    "completion = groq_client.chat.completions.create(\n",
    "    messages=[{\"role\": \"system\", \"content\": \"What is the meaning of life?\"}],\n",
    "    model=\"llama-3.3-70b-versatile\",\n",
    "    temperature=0.3,\n",
    "    max_tokens=150\n",
    ")\n",
    "completed_message = completion.choices[0].message.content\n",
    "print(completed_message)"
   ]
  },
  {
   "cell_type": "code",
   "execution_count": null,
   "metadata": {},
   "outputs": [],
   "source": []
  }
 ],
 "metadata": {
  "kernelspec": {
   "display_name": "nexenv",
   "language": "python",
   "name": "python3"
  },
  "language_info": {
   "codemirror_mode": {
    "name": "ipython",
    "version": 3
   },
   "file_extension": ".py",
   "mimetype": "text/x-python",
   "name": "python",
   "nbconvert_exporter": "python",
   "pygments_lexer": "ipython3",
   "version": "3.11.9"
  }
 },
 "nbformat": 4,
 "nbformat_minor": 2
}
